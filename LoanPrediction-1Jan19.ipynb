{
 "cells": [
  {
   "cell_type": "markdown",
   "metadata": {},
   "source": [
    "\"\"\"\n",
    "File Name           --> LoanPrediction.py\n",
    "\n",
    "Version             --> 0.1\n",
    "\n",
    "Created Date        --> 1 Jan 2019\n",
    "\n",
    "Problem Statement   --> Predict the loan default for people.\n",
    "\n",
    "Problem Type        --> Binary Classification\n",
    "\n",
    "Description         --> Training dataset is provided with information for people who have defaulted or otherwise.\n",
    "                        The goal is to predict the loan default for people in the test dataset based on the given attributes.\n",
    "                        \n",
    "Output/Dependant Variable --> Loan Status (0 or 1)\n",
    "\n",
    "#################################Change History#################################\n",
    "#Please fill below whenever changes are done.\n",
    "\n",
    "#1st Change\n",
    "Changed By          -->\n",
    "Changed On          --> \n",
    "Change Reason       -->\n",
    "Search String       -->\n",
    "\n",
    "\n",
    "\"\"\""
   ]
  },
  {
   "cell_type": "code",
   "execution_count": 1,
   "metadata": {},
   "outputs": [],
   "source": [
    "# To make the story interesting to be heard, We have given the dependant variable the designation of a chief guest\n",
    "# and all other independant variables are considered to be ordinary guest.\n",
    "# Goal will be to predict whether our chief guest will pay back our loan based on our understanding\n",
    "# of ordinary guests loan payment habits and relation to chief guest.\n",
    "\n",
    "# Gather all the packages for my party.\n",
    "import pandas as  pd\n",
    "import numpy as np\n",
    "import seaborn as sns\n",
    "%matplotlib inline\n",
    "import matplotlib.pyplot as plt\n",
    "\n",
    "from sklearn.preprocessing import Imputer"
   ]
  },
  {
   "cell_type": "code",
   "execution_count": 2,
   "metadata": {},
   "outputs": [],
   "source": [
    "# Shop the food and fuel.\n",
    "train = pd.read_csv(r'C:\\Users\\SHANTNU\\Documents\\GitHub\\UseCases\\train_u6lujuX_CVtuZ9i.csv')"
   ]
  },
  {
   "cell_type": "code",
   "execution_count": 3,
   "metadata": {},
   "outputs": [
    {
     "data": {
      "text/plain": [
       "Index(['Loan_ID', 'Gender', 'Married', 'Dependents', 'Education',\n",
       "       'Self_Employed', 'ApplicantIncome', 'CoapplicantIncome', 'LoanAmount',\n",
       "       'Loan_Amount_Term', 'Credit_History', 'Property_Area', 'Loan_Status'],\n",
       "      dtype='object')"
      ]
     },
     "execution_count": 3,
     "metadata": {},
     "output_type": "execute_result"
    }
   ],
   "source": [
    "# Check what's on the Menu\n",
    "train.columns"
   ]
  },
  {
   "cell_type": "code",
   "execution_count": 4,
   "metadata": {},
   "outputs": [
    {
     "data": {
      "text/plain": [
       "count     614\n",
       "unique      2\n",
       "top         Y\n",
       "freq      422\n",
       "Name: Loan_Status, dtype: object"
      ]
     },
     "execution_count": 4,
     "metadata": {},
     "output_type": "execute_result"
    }
   ],
   "source": [
    "# Welcome the chief guest.\n",
    "train['Loan_Status'].describe()"
   ]
  },
  {
   "cell_type": "code",
   "execution_count": 5,
   "metadata": {},
   "outputs": [
    {
     "data": {
      "text/plain": [
       "<matplotlib.axes._subplots.AxesSubplot at 0xacc9198>"
      ]
     },
     "execution_count": 5,
     "metadata": {},
     "output_type": "execute_result"
    },
    {
     "data": {
      "image/png": "[encoded data removed]",
      "text/plain": [
       "<Figure size 432x288 with 1 Axes>"
      ]
     },
     "metadata": {},
     "output_type": "display_data"
    }
   ],
   "source": [
    "# Get more details about the chief guest so we can understand and overwhelm him.\n",
    "\n",
    "#----------------For linear regression or continous variable start.-----------------\n",
    "#sns.distplot(train['Loan_Status']);\n",
    "\n",
    "# Get the body measures.\n",
    "#skewness and kurtosis\n",
    "#print(\"Skewness: %f\" % df_train['SalePrice'].skew())\n",
    "#print(\"Kurtosis: %f\" % df_train['SalePrice'].kurt())\n",
    "#----------------For linear regression or continous variable end.-----------------\n",
    "\n",
    "#----------------For Classification or categorical variable start.-----------------\n",
    "# For Classification problem.\n",
    "train['Loan_Status'].value_counts(normalize ='True').plot.bar(title = 'Loan_Status')\n",
    "#----------------For Classification or categorical variable end.-----------------"
   ]
  },
  {
   "cell_type": "code",
   "execution_count": 6,
   "metadata": {},
   "outputs": [
    {
     "name": "stdout",
     "output_type": "stream",
     "text": [
      "Loan_ID               object\n",
      "Gender                object\n",
      "Married               object\n",
      "Dependents            object\n",
      "Education             object\n",
      "Self_Employed         object\n",
      "ApplicantIncome        int64\n",
      "CoapplicantIncome    float64\n",
      "LoanAmount           float64\n",
      "Loan_Amount_Term     float64\n",
      "Credit_History       float64\n",
      "Property_Area         object\n",
      "Loan_Status           object\n",
      "dtype: object\n"
     ]
    },
    {
     "data": {
      "text/html": [
       "<div>\n",
       "<style scoped>\n",
       "    .dataframe tbody tr th:only-of-type {\n",
       "        vertical-align: middle;\n",
       "    }\n",
       "\n",
       "    .dataframe tbody tr th {\n",
       "        vertical-align: top;\n",
       "    }\n",
       "\n",
       "    .dataframe thead th {\n",
       "        text-align: right;\n",
       "    }\n",
       "</style>\n",
       "<table border=\"1\" class=\"dataframe\">\n",
       "  <thead>\n",
       "    <tr style=\"text-align: right;\">\n",
       "      <th></th>\n",
       "      <th>Loan_ID</th>\n",
       "      <th>Gender</th>\n",
       "      <th>Married</th>\n",
       "      <th>Dependents</th>\n",
       "      <th>Education</th>\n",
       "      <th>Self_Employed</th>\n",
       "      <th>ApplicantIncome</th>\n",
       "      <th>CoapplicantIncome</th>\n",
       "      <th>LoanAmount</th>\n",
       "      <th>Loan_Amount_Term</th>\n",
       "      <th>Credit_History</th>\n",
       "      <th>Property_Area</th>\n",
       "      <th>Loan_Status</th>\n",
       "    </tr>\n",
       "  </thead>\n",
       "  <tbody>\n",
       "    <tr>\n",
       "      <th>335</th>\n",
       "      <td>LP002106</td>\n",
       "      <td>Male</td>\n",
       "      <td>Yes</td>\n",
       "      <td>NaN</td>\n",
       "      <td>Graduate</td>\n",
       "      <td>Yes</td>\n",
       "      <td>5503</td>\n",
       "      <td>4490.0</td>\n",
       "      <td>70.0</td>\n",
       "      <td>NaN</td>\n",
       "      <td>1.0</td>\n",
       "      <td>Semiurban</td>\n",
       "      <td>Y</td>\n",
       "    </tr>\n",
       "  </tbody>\n",
       "</table>\n",
       "</div>"
      ],
      "text/plain": [
       "      Loan_ID Gender Married Dependents Education Self_Employed  \\\n",
       "335  LP002106   Male     Yes        NaN  Graduate           Yes   \n",
       "\n",
       "     ApplicantIncome  CoapplicantIncome  LoanAmount  Loan_Amount_Term  \\\n",
       "335             5503             4490.0        70.0               NaN   \n",
       "\n",
       "     Credit_History Property_Area Loan_Status  \n",
       "335             1.0     Semiurban           Y  "
      ]
     },
     "execution_count": 6,
     "metadata": {},
     "output_type": "execute_result"
    }
   ],
   "source": [
    "#Seperate the other ordinary guest from the chief guest. And arrange a special seat.\n",
    "#print(train.head())\n",
    "X = train.iloc[:,:-1].values\n",
    "#print(X)\n",
    "Y = train.iloc[:,12]\n",
    "#print(Y)\n",
    "print(train.dtypes)\n",
    "train.shape\n",
    "train.head(5)\n",
    "train.sample(1)\n",
    "#train.info"
   ]
  },
  {
   "cell_type": "code",
   "execution_count": 7,
   "metadata": {},
   "outputs": [],
   "source": [
    "#################### EDA for regression problems (high level for now)########################\n",
    "# Histogram for mean, variance & standard deviation\n",
    "# Data Distribution\n",
    "# Scatterplots\n",
    "# Correation matrix for pearson coeffecient.\n",
    "# Stability test to check if there is a significant change in dataset over period of time.\n",
    "# Co-variance"
   ]
  },
  {
   "cell_type": "code",
   "execution_count": 8,
   "metadata": {},
   "outputs": [],
   "source": [
    "############### EDA for classification problems #######################################\n",
    "\n",
    "# Check how our chief guest is related to other ordinary guest individually.\n",
    "# Declaring cross tabs for various variables with respect to output variable.\n",
    "Gender = pd.crosstab(train['Gender'], train['Loan_Status'])\n",
    "Married=pd.crosstab(train['Married'],train['Loan_Status'])\n",
    "Dependents=pd.crosstab(train['Dependents'],train['Loan_Status'])\n",
    "Education=pd.crosstab(train['Education'],train['Loan_Status'])\n",
    "Self_Employed=pd.crosstab(train['Self_Employed'],train['Loan_Status'])\n",
    "Credit_History=pd.crosstab(train['Credit_History'],train['Loan_Status'])\n",
    "Property_Area=pd.crosstab(train['Property_Area'],train['Loan_Status'])\n",
    "Loan_Amount_Term=pd.crosstab(train['Loan_Amount_Term'],train['Loan_Status'])"
   ]
  },
  {
   "cell_type": "code",
   "execution_count": 9,
   "metadata": {},
   "outputs": [
    {
     "data": {
      "text/plain": [
       "<matplotlib.axes._subplots.AxesSubplot at 0xb22b128>"
      ]
     },
     "execution_count": 9,
     "metadata": {},
     "output_type": "execute_result"
    },
    {
     "data": {
      "image/png": "[encoded data removed]",
      "text/plain": [
       "<Figure size 432x288 with 1 Axes>"
      ]
     },
     "metadata": {},
     "output_type": "display_data"
    },
    {
     "data": {
      "image/png": "[encoded data removed]",
      "text/plain": [
       "<Figure size 288x288 with 1 Axes>"
      ]
     },
     "metadata": {},
     "output_type": "display_data"
    }
   ],
   "source": [
    "########################### Gender #########################################\n",
    "# Ratio of gender in dataset\n",
    "train['Gender'].value_counts(normalize ='True').plot.bar(title = 'Gender')\n",
    "# Result --> High number of mails. About 80%.\n",
    "# What does this mean --> we can impute by mode since 80% are males.\n",
    "# Check what our chief guest thinks about Gender.\n",
    "Gender.div(Gender.sum(1).astype(float), axis=0).plot(kind=\"bar\", stacked=True, figsize=(4,4))\n",
    "# Result --> As it turns out, our guest belives in gender equality. Gender rations are almost similar.\n",
    "# You must be thinking I wrote mails instead of males above. Bugged you."
   ]
  },
  {
   "cell_type": "code",
   "execution_count": 10,
   "metadata": {},
   "outputs": [
    {
     "data": {
      "text/plain": [
       "<matplotlib.axes._subplots.AxesSubplot at 0xb708f28>"
      ]
     },
     "execution_count": 10,
     "metadata": {},
     "output_type": "execute_result"
    },
    {
     "data": {
      "image/png": "[encoded data removed]",
      "text/plain": [
       "<Figure size 432x288 with 1 Axes>"
      ]
     },
     "metadata": {},
     "output_type": "display_data"
    },
    {
     "data": {
      "image/png": "[encoded data removed]",
      "text/plain": [
       "<Figure size 288x288 with 1 Axes>"
      ]
     },
     "metadata": {},
     "output_type": "display_data"
    }
   ],
   "source": [
    "########################### Gender ################################################\n",
    "#####ratio of married in dataset\n",
    "train['Married'].value_counts(normalize ='True').plot.bar(title = 'Married')\n",
    "# Result --> More married people around 60%.\n",
    "# What does this mean --> we can impute in ratio of 60/40 randomly or if very less missing then impute mode as well. Prefer 60/40.\n",
    "# Check what our chief guest thinks about Marital status.\n",
    "Married.div(Married.sum(1).astype(float), axis=0).plot(kind=\"bar\", stacked=True, figsize=(4,4))\n",
    "# Result --> As it turns out, our guest doesn't care about marital status. (Can go for extra-marital as well)"
   ]
  },
  {
   "cell_type": "code",
   "execution_count": 11,
   "metadata": {},
   "outputs": [
    {
     "data": {
      "text/plain": [
       "<matplotlib.axes._subplots.AxesSubplot at 0xbb71358>"
      ]
     },
     "execution_count": 11,
     "metadata": {},
     "output_type": "execute_result"
    },
    {
     "data": {
      "image/png": "[encoded data removed]",
      "text/plain": [
       "<Figure size 432x288 with 1 Axes>"
      ]
     },
     "metadata": {},
     "output_type": "display_data"
    },
    {
     "data": {
      "image/png": "[encoded data removed]",
      "text/plain": [
       "<Figure size 432x288 with 1 Axes>"
      ]
     },
     "metadata": {},
     "output_type": "display_data"
    }
   ],
   "source": [
    "########################### Dependents ###############################################\n",
    "train['Dependents'].value_counts(normalize ='True').plot.bar(title = 'Dependents')\n",
    "# Result --> High percentage of data contains 0 dependants and other values equallly distributed.\n",
    "# What does this mean --> we can impute in ratio of 60/15/15/10 randomly or if very less missing then impute mode as well. Prefer 60/40.\n",
    "Dependents.div(Dependents.sum(1).astype(float), axis=0).plot(kind=\"bar\", stacked=True)\n",
    "# Result --> People with 2 dependants are less defaulters and people with 1 & 3+ are more. But rations are very close to conclude anything.\n",
    "# What does this mean --> Number of dependant affects less to our chief guest. we will keep in mind."
   ]
  },
  {
   "cell_type": "code",
   "execution_count": 12,
   "metadata": {},
   "outputs": [
    {
     "data": {
      "text/plain": [
       "<matplotlib.axes._subplots.AxesSubplot at 0xbbc1eb8>"
      ]
     },
     "execution_count": 12,
     "metadata": {},
     "output_type": "execute_result"
    },
    {
     "data": {
      "image/png": "[encoded data removed]",
      "text/plain": [
       "<Figure size 432x288 with 1 Axes>"
      ]
     },
     "metadata": {},
     "output_type": "display_data"
    },
    {
     "data": {
      "image/png": "[encoded data removed]",
      "text/plain": [
       "<Figure size 288x288 with 1 Axes>"
      ]
     },
     "metadata": {},
     "output_type": "display_data"
    }
   ],
   "source": [
    "########################### Education #############################################\n",
    "train['Education'].value_counts(normalize ='True').plot.bar(title = 'Education')\n",
    "# Result --> More graduate people around 80%.\n",
    "# What does this mean --> we can impute in ratio of 80/20 randomly or mode as well.\n",
    "Education.div(Education.sum(1).astype(float), axis=0).plot(kind=\"bar\", stacked=True, figsize=(4,4))\n",
    "# Result --> More no 'Not graduate' people donot pay the loan. \n",
    "# What does this mean --> 'Not graduate' might be imp variable. Let's keep this in mind too."
   ]
  },
  {
   "cell_type": "code",
   "execution_count": 13,
   "metadata": {},
   "outputs": [
    {
     "data": {
      "text/plain": [
       "<matplotlib.axes._subplots.AxesSubplot at 0xb28a160>"
      ]
     },
     "execution_count": 13,
     "metadata": {},
     "output_type": "execute_result"
    },
    {
     "data": {
      "image/png": "[encoded data removed]",
      "text/plain": [
       "<Figure size 432x288 with 1 Axes>"
      ]
     },
     "metadata": {},
     "output_type": "display_data"
    },
    {
     "data": {
      "image/png": "[encoded data removed]",
      "text/plain": [
       "<Figure size 288x288 with 1 Axes>"
      ]
     },
     "metadata": {},
     "output_type": "display_data"
    }
   ],
   "source": [
    "########################### Self_Employed #########################################\n",
    "train['Self_Employed'].value_counts(normalize ='True').plot.bar(title = 'Self_Employed')\n",
    "# Result --> Only 10% of people are self-employed.\n",
    "# What does this mean --> Imputation by mode is a feasible option.\n",
    "Self_Employed.div(Self_Employed.sum(1).astype(float), axis=0).plot(kind=\"bar\", stacked=True, figsize=(4,4))\n",
    "# Result --> Both default around 30% of their loans.\n",
    "# What does this mean --> Our chief guest doesn't give a shit if you are an entrepreneur or salaried"
   ]
  },
  {
   "cell_type": "code",
   "execution_count": 14,
   "metadata": {},
   "outputs": [
    {
     "data": {
      "text/plain": [
       "<matplotlib.axes._subplots.AxesSubplot at 0xbcb3128>"
      ]
     },
     "execution_count": 14,
     "metadata": {},
     "output_type": "execute_result"
    },
    {
     "data": {
      "image/png": "[encoded data removed]",
      "text/plain": [
       "<Figure size 432x288 with 1 Axes>"
      ]
     },
     "metadata": {},
     "output_type": "display_data"
    },
    {
     "data": {
      "image/png": "[encoded data removed]",
      "text/plain": [
       "<Figure size 288x288 with 1 Axes>"
      ]
     },
     "metadata": {},
     "output_type": "display_data"
    }
   ],
   "source": [
    "########################### Loan_Amount_Term #########################################\n",
    "train['Loan_Amount_Term'].value_counts(normalize ='True').plot.bar(title = 'Loan_Amount_Term')\n",
    "# Result --> Loan term is mostly 90%.\n",
    "# What does this mean --> Imputation by mode is a perfectly feasible option.\n",
    "Loan_Amount_Term.div(Loan_Amount_Term.sum(1).astype(float), axis=0).plot(kind=\"bar\", stacked=True, figsize=(4,4))\n",
    "# Result --> All People with 36 days have defaulted. People with 12 days term have not at all defaulted.\n",
    "#            People with 480 days of loan terms default alot.\n",
    "# What does this mean --> Our chief guest is affected by the number of days you are taking the loan for. \n",
    "#                         This shall be an important variable to keep a track of. "
   ]
  },
  {
   "cell_type": "code",
   "execution_count": 15,
   "metadata": {},
   "outputs": [
    {
     "data": {
      "text/plain": [
       "<matplotlib.axes._subplots.AxesSubplot at 0xbbd2a58>"
      ]
     },
     "execution_count": 15,
     "metadata": {},
     "output_type": "execute_result"
    },
    {
     "data": {
      "image/png": "[encoded data removed]",
      "text/plain": [
       "<Figure size 432x288 with 1 Axes>"
      ]
     },
     "metadata": {},
     "output_type": "display_data"
    },
    {
     "data": {
      "image/png": "[encoded data removed]",
      "text/plain": [
       "<Figure size 288x288 with 1 Axes>"
      ]
     },
     "metadata": {},
     "output_type": "display_data"
    }
   ],
   "source": [
    "########################### Credit_History #########################################\n",
    "train['Credit_History'].value_counts(normalize ='True').plot.bar(title = 'Credit_History')\n",
    "# Result --> Credit history people are around 85%\n",
    "# What does this mean --> Mode imputation is a perfectly feasible optiion.\n",
    "Credit_History.div(Credit_History.sum(1).astype(float), axis=0).plot(kind=\"bar\", stacked=True, figsize=(4,4))\n",
    "# Result --> People with no credit history have defaulted 90% of the times. 20% default for people with credit history.\n",
    "# What does this mean --> Our chief guest is definitely concerned about the credit history of the ordinary people."
   ]
  },
  {
   "cell_type": "code",
   "execution_count": 16,
   "metadata": {},
   "outputs": [
    {
     "data": {
      "text/plain": [
       "<matplotlib.axes._subplots.AxesSubplot at 0xbd9b4a8>"
      ]
     },
     "execution_count": 16,
     "metadata": {},
     "output_type": "execute_result"
    },
    {
     "data": {
      "image/png": "[encoded data removed]",
      "text/plain": [
       "<Figure size 432x288 with 1 Axes>"
      ]
     },
     "metadata": {},
     "output_type": "display_data"
    },
    {
     "data": {
      "image/png": "[encoded data removed]",
      "text/plain": [
       "<Figure size 432x288 with 1 Axes>"
      ]
     },
     "metadata": {},
     "output_type": "display_data"
    }
   ],
   "source": [
    "########################### Property_Area #########################################\n",
    "train['Property_Area'].value_counts(normalize ='True').plot.bar(title = 'Property_Area')\n",
    "# Result --> SemiUrban --40%        Urban --32%         Rural --28% \n",
    "# What does this mean --> we can impute in ratio of 40/32/28 randomly.\n",
    "Property_Area.div(Property_Area.sum(1).astype(float), axis=0).plot(kind=\"bar\", stacked=True)\n",
    "# Result --> Max default is from Rural Areas. Least is SemiUrban.\n",
    "# What does this mean --> This also seems to be the variable of interest."
   ]
  },
  {
   "cell_type": "code",
   "execution_count": 17,
   "metadata": {},
   "outputs": [
    {
     "data": {
      "text/plain": [
       "<matplotlib.axes._subplots.AxesSubplot at 0xbd1dba8>"
      ]
     },
     "execution_count": 17,
     "metadata": {},
     "output_type": "execute_result"
    },
    {
     "data": {
      "image/png": "[encoded data removed]",
      "text/plain": [
       "<Figure size 432x288 with 1 Axes>"
      ]
     },
     "metadata": {},
     "output_type": "display_data"
    }
   ],
   "source": [
    "#1. Row wise missing values info\n",
    "RowMissingCount = train.isnull().sum(axis=1)\n",
    "RowMissingCount\n",
    "RowMissingCount.value_counts(normalize ='False').plot.bar(title = 'Missing Row Count Frequency')"
   ]
  },
  {
   "cell_type": "code",
   "execution_count": 18,
   "metadata": {},
   "outputs": [
    {
     "data": {
      "text/plain": [
       "<matplotlib.axes._subplots.AxesSubplot at 0xbde9c50>"
      ]
     },
     "execution_count": 18,
     "metadata": {},
     "output_type": "execute_result"
    },
    {
     "data": {
      "image/png": "[encoded data removed]",
      "text/plain": [
       "<Figure size 432x288 with 1 Axes>"
      ]
     },
     "metadata": {},
     "output_type": "display_data"
    }
   ],
   "source": [
    "#2. Box Plots on all Columns. (Obviiously Only Continous)\n",
    "#To create with looping all variables in.\n",
    "#for i in train.columns:\n",
    "#    train.boxplot(column=i)\n",
    "#    plt.show()\n",
    "\n",
    "train.boxplot(column=['ApplicantIncome'], grid=True)\n",
    "train.boxplot(column=['CoapplicantIncome'], grid=True)\n",
    "train.boxplot(column=['LoanAmount'], grid=True)"
   ]
  },
  {
   "cell_type": "code",
   "execution_count": 19,
   "metadata": {},
   "outputs": [
    {
     "data": {
      "text/html": [
       "<div>\n",
       "<style scoped>\n",
       "    .dataframe tbody tr th:only-of-type {\n",
       "        vertical-align: middle;\n",
       "    }\n",
       "\n",
       "    .dataframe tbody tr th {\n",
       "        vertical-align: top;\n",
       "    }\n",
       "\n",
       "    .dataframe thead th {\n",
       "        text-align: right;\n",
       "    }\n",
       "</style>\n",
       "<table border=\"1\" class=\"dataframe\">\n",
       "  <thead>\n",
       "    <tr style=\"text-align: right;\">\n",
       "      <th></th>\n",
       "      <th># of total</th>\n",
       "      <th># of missing</th>\n",
       "      <th># of percent</th>\n",
       "    </tr>\n",
       "  </thead>\n",
       "  <tbody>\n",
       "    <tr>\n",
       "      <th>Credit_History</th>\n",
       "      <td>614</td>\n",
       "      <td>50</td>\n",
       "      <td>8.143322</td>\n",
       "    </tr>\n",
       "    <tr>\n",
       "      <th>Self_Employed</th>\n",
       "      <td>614</td>\n",
       "      <td>32</td>\n",
       "      <td>5.211726</td>\n",
       "    </tr>\n",
       "    <tr>\n",
       "      <th>LoanAmount</th>\n",
       "      <td>614</td>\n",
       "      <td>22</td>\n",
       "      <td>3.583062</td>\n",
       "    </tr>\n",
       "    <tr>\n",
       "      <th>Dependents</th>\n",
       "      <td>614</td>\n",
       "      <td>15</td>\n",
       "      <td>2.442997</td>\n",
       "    </tr>\n",
       "    <tr>\n",
       "      <th>Loan_Amount_Term</th>\n",
       "      <td>614</td>\n",
       "      <td>14</td>\n",
       "      <td>2.280130</td>\n",
       "    </tr>\n",
       "    <tr>\n",
       "      <th>Gender</th>\n",
       "      <td>614</td>\n",
       "      <td>13</td>\n",
       "      <td>2.117264</td>\n",
       "    </tr>\n",
       "    <tr>\n",
       "      <th>Married</th>\n",
       "      <td>614</td>\n",
       "      <td>3</td>\n",
       "      <td>0.488599</td>\n",
       "    </tr>\n",
       "    <tr>\n",
       "      <th>Loan_ID</th>\n",
       "      <td>614</td>\n",
       "      <td>0</td>\n",
       "      <td>0.000000</td>\n",
       "    </tr>\n",
       "    <tr>\n",
       "      <th>Education</th>\n",
       "      <td>614</td>\n",
       "      <td>0</td>\n",
       "      <td>0.000000</td>\n",
       "    </tr>\n",
       "    <tr>\n",
       "      <th>ApplicantIncome</th>\n",
       "      <td>614</td>\n",
       "      <td>0</td>\n",
       "      <td>0.000000</td>\n",
       "    </tr>\n",
       "    <tr>\n",
       "      <th>CoapplicantIncome</th>\n",
       "      <td>614</td>\n",
       "      <td>0</td>\n",
       "      <td>0.000000</td>\n",
       "    </tr>\n",
       "    <tr>\n",
       "      <th>Property_Area</th>\n",
       "      <td>614</td>\n",
       "      <td>0</td>\n",
       "      <td>0.000000</td>\n",
       "    </tr>\n",
       "    <tr>\n",
       "      <th>Loan_Status</th>\n",
       "      <td>614</td>\n",
       "      <td>0</td>\n",
       "      <td>0.000000</td>\n",
       "    </tr>\n",
       "  </tbody>\n",
       "</table>\n",
       "</div>"
      ],
      "text/plain": [
       "                   # of total  # of missing  # of percent\n",
       "Credit_History            614            50      8.143322\n",
       "Self_Employed             614            32      5.211726\n",
       "LoanAmount                614            22      3.583062\n",
       "Dependents                614            15      2.442997\n",
       "Loan_Amount_Term          614            14      2.280130\n",
       "Gender                    614            13      2.117264\n",
       "Married                   614             3      0.488599\n",
       "Loan_ID                   614             0      0.000000\n",
       "Education                 614             0      0.000000\n",
       "ApplicantIncome           614             0      0.000000\n",
       "CoapplicantIncome         614             0      0.000000\n",
       "Property_Area             614             0      0.000000\n",
       "Loan_Status               614             0      0.000000"
      ]
     },
     "execution_count": 19,
     "metadata": {},
     "output_type": "execute_result"
    }
   ],
   "source": [
    "#3 Count of missing values in each column\n",
    "columns = train.columns\n",
    "total_rows = len(train)\n",
    "count_missing = len(train) - train.count()\n",
    "percent_missing = train.isnull().sum() * 100 / len(train)\n",
    "missing_value_train = pd.DataFrame({ '# of total': total_rows,\n",
    "                                    '# of missing': count_missing,\n",
    "                                 '# of percent': percent_missing})\n",
    "missing_value_train.sort_values('# of percent', inplace=True, ascending = False)\n",
    "percent_missing\n",
    "missing_value_train"
   ]
  },
  {
   "cell_type": "code",
   "execution_count": 20,
   "metadata": {},
   "outputs": [],
   "source": [
    "#code for missing values\n",
    "train = train.replace(0, np.NaN)\n",
    "train['Gender']= train['Gender'].fillna(train['Gender'].mode()[0])\n",
    "train['Married']= train['Married'].fillna(train['Married'].mode()[0])\n",
    "train['Dependents']= train['Dependents'].fillna(train['Dependents'].mode()[0])\n",
    "train['Self_Employed']= train['Self_Employed'].fillna(train['Self_Employed'].mode()[0])\n",
    "train['LoanAmount']= train['LoanAmount'].fillna(train['LoanAmount'].mean())\n",
    "#print(train['Gender'])"
   ]
  },
  {
   "cell_type": "code",
   "execution_count": 21,
   "metadata": {},
   "outputs": [
    {
     "data": {
      "text/html": [
       "<div>\n",
       "<style scoped>\n",
       "    .dataframe tbody tr th:only-of-type {\n",
       "        vertical-align: middle;\n",
       "    }\n",
       "\n",
       "    .dataframe tbody tr th {\n",
       "        vertical-align: top;\n",
       "    }\n",
       "\n",
       "    .dataframe thead th {\n",
       "        text-align: right;\n",
       "    }\n",
       "</style>\n",
       "<table border=\"1\" class=\"dataframe\">\n",
       "  <thead>\n",
       "    <tr style=\"text-align: right;\">\n",
       "      <th></th>\n",
       "      <th># of total</th>\n",
       "      <th># of missing</th>\n",
       "      <th># of percent</th>\n",
       "    </tr>\n",
       "  </thead>\n",
       "  <tbody>\n",
       "    <tr>\n",
       "      <th>Credit_History</th>\n",
       "      <td>614</td>\n",
       "      <td>139</td>\n",
       "      <td>8.143322</td>\n",
       "    </tr>\n",
       "    <tr>\n",
       "      <th>Self_Employed</th>\n",
       "      <td>614</td>\n",
       "      <td>0</td>\n",
       "      <td>5.211726</td>\n",
       "    </tr>\n",
       "    <tr>\n",
       "      <th>LoanAmount</th>\n",
       "      <td>614</td>\n",
       "      <td>0</td>\n",
       "      <td>3.583062</td>\n",
       "    </tr>\n",
       "    <tr>\n",
       "      <th>Dependents</th>\n",
       "      <td>614</td>\n",
       "      <td>0</td>\n",
       "      <td>2.442997</td>\n",
       "    </tr>\n",
       "    <tr>\n",
       "      <th>Loan_Amount_Term</th>\n",
       "      <td>614</td>\n",
       "      <td>14</td>\n",
       "      <td>2.280130</td>\n",
       "    </tr>\n",
       "    <tr>\n",
       "      <th>Gender</th>\n",
       "      <td>614</td>\n",
       "      <td>0</td>\n",
       "      <td>2.117264</td>\n",
       "    </tr>\n",
       "    <tr>\n",
       "      <th>Married</th>\n",
       "      <td>614</td>\n",
       "      <td>0</td>\n",
       "      <td>0.488599</td>\n",
       "    </tr>\n",
       "    <tr>\n",
       "      <th>Loan_ID</th>\n",
       "      <td>614</td>\n",
       "      <td>0</td>\n",
       "      <td>0.000000</td>\n",
       "    </tr>\n",
       "    <tr>\n",
       "      <th>Education</th>\n",
       "      <td>614</td>\n",
       "      <td>0</td>\n",
       "      <td>0.000000</td>\n",
       "    </tr>\n",
       "    <tr>\n",
       "      <th>ApplicantIncome</th>\n",
       "      <td>614</td>\n",
       "      <td>0</td>\n",
       "      <td>0.000000</td>\n",
       "    </tr>\n",
       "    <tr>\n",
       "      <th>CoapplicantIncome</th>\n",
       "      <td>614</td>\n",
       "      <td>273</td>\n",
       "      <td>0.000000</td>\n",
       "    </tr>\n",
       "    <tr>\n",
       "      <th>Property_Area</th>\n",
       "      <td>614</td>\n",
       "      <td>0</td>\n",
       "      <td>0.000000</td>\n",
       "    </tr>\n",
       "    <tr>\n",
       "      <th>Loan_Status</th>\n",
       "      <td>614</td>\n",
       "      <td>0</td>\n",
       "      <td>0.000000</td>\n",
       "    </tr>\n",
       "  </tbody>\n",
       "</table>\n",
       "</div>"
      ],
      "text/plain": [
       "                   # of total  # of missing  # of percent\n",
       "Credit_History            614           139      8.143322\n",
       "Self_Employed             614             0      5.211726\n",
       "LoanAmount                614             0      3.583062\n",
       "Dependents                614             0      2.442997\n",
       "Loan_Amount_Term          614            14      2.280130\n",
       "Gender                    614             0      2.117264\n",
       "Married                   614             0      0.488599\n",
       "Loan_ID                   614             0      0.000000\n",
       "Education                 614             0      0.000000\n",
       "ApplicantIncome           614             0      0.000000\n",
       "CoapplicantIncome         614           273      0.000000\n",
       "Property_Area             614             0      0.000000\n",
       "Loan_Status               614             0      0.000000"
      ]
     },
     "execution_count": 21,
     "metadata": {},
     "output_type": "execute_result"
    }
   ],
   "source": [
    "#4 Count of missing values after imputation\n",
    "columns = train.columns\n",
    "total_rows = len(train)\n",
    "count_missing = len(train) - train.count()\n",
    "Updated_percent_missing = train.isnull().sum() * 100 / len(train)\n",
    "updated_missing_value_train = pd.DataFrame({ '# of total': total_rows,\n",
    "                                    '# of missing': count_missing,\n",
    "                                 '# of percent': percent_missing})\n",
    "updated_missing_value_train.sort_values('# of percent', inplace=True, ascending = False)\n",
    "Updated_percent_missing\n",
    "updated_missing_value_train"
   ]
  },
  {
   "cell_type": "code",
   "execution_count": 22,
   "metadata": {},
   "outputs": [
    {
     "data": {
      "text/plain": [
       "<matplotlib.axes._subplots.AxesSubplot at 0xbe3d940>"
      ]
     },
     "execution_count": 22,
     "metadata": {},
     "output_type": "execute_result"
    },
    {
     "data": {
      "image/png": "[encoded data removed]",
      "text/plain": [
       "<Figure size 1152x864 with 2 Axes>"
      ]
     },
     "metadata": {},
     "output_type": "display_data"
    }
   ],
   "source": [
    "#4. #CORRELATION MATRIX (Pearson Correlation to measure how similar are 2 solutions)\n",
    "#Pearson correlation coefficient is only used for Continous variable.\n",
    "plt.figure(figsize=(16,12))\n",
    "sns.heatmap(train.iloc[:,1:].corr(),annot=True,fmt=\".2f\")"
   ]
  },
  {
   "cell_type": "code",
   "execution_count": 23,
   "metadata": {},
   "outputs": [
    {
     "name": "stdout",
     "output_type": "stream",
     "text": [
      "0       sNo\n",
      "1       sNo\n",
      "2      sYes\n",
      "3       sNo\n",
      "4       sNo\n",
      "5      sYes\n",
      "6       sNo\n",
      "7       sNo\n",
      "8       sNo\n",
      "9       sNo\n",
      "10      sNo\n",
      "11      sNo\n",
      "12      sNo\n",
      "13      sNo\n",
      "14      sNo\n",
      "15      sNo\n",
      "16      sNo\n",
      "17      sNo\n",
      "18      sNo\n",
      "19      sNo\n",
      "20      sNo\n",
      "21      sNo\n",
      "22      sNo\n",
      "23      sNo\n",
      "24      sNo\n",
      "25     sYes\n",
      "26      sNo\n",
      "27      sNo\n",
      "28      sNo\n",
      "29      sNo\n",
      "       ... \n",
      "584     sNo\n",
      "585     sNo\n",
      "586     sNo\n",
      "587     sNo\n",
      "588     sNo\n",
      "589    sYes\n",
      "590     sNo\n",
      "591    sYes\n",
      "592    sYes\n",
      "593     sNo\n",
      "594    sYes\n",
      "595     sNo\n",
      "596    sYes\n",
      "597     sNo\n",
      "598    sYes\n",
      "599     sNo\n",
      "600     sNo\n",
      "601     sNo\n",
      "602     sNo\n",
      "603     sNo\n",
      "604     sNo\n",
      "605     sNo\n",
      "606     sNo\n",
      "607     sNo\n",
      "608     sNo\n",
      "609     sNo\n",
      "610     sNo\n",
      "611     sNo\n",
      "612     sNo\n",
      "613    sYes\n",
      "Name: Self_Employed, Length: 614, dtype: object\n"
     ]
    },
    {
     "data": {
      "text/plain": [
       "<matplotlib.axes._subplots.AxesSubplot at 0xc2cd5f8>"
      ]
     },
     "execution_count": 23,
     "metadata": {},
     "output_type": "execute_result"
    },
    {
     "data": {
      "image/png": "[encoded data removed]",
      "text/plain": [
       "<Figure size 432x288 with 1 Axes>"
      ]
     },
     "metadata": {},
     "output_type": "display_data"
    }
   ],
   "source": [
    "train['Self_Employed']='s'+ train['Self_Employed'].astype(str)\n",
    "print(train['Self_Employed'])\n",
    "\n",
    "#code for categorical variables(dummy)\n",
    "propAreaD = pd.get_dummies(train['Property_Area'])\n",
    "train = train.drop('Property_Area',axis=1)\n",
    "train = train.join(propAreaD)\n",
    "#print(propAreaD)\n",
    "\n",
    "genderD = pd.get_dummies(train['Gender'])\n",
    "train = train.drop('Gender',axis=1)\n",
    "train = train.join(genderD)\n",
    "#print(genderD)\n",
    "\n",
    "marriedD =pd.get_dummies(train['Married'])\n",
    "train = train.drop('Married',axis=1)\n",
    "train = train.join(marriedD)\n",
    "#print(marriedD)\n",
    "\n",
    "educationD = pd.get_dummies(train['Education'])\n",
    "train = train.drop('Education',axis=1)\n",
    "train = train.join(educationD)\n",
    "#print(educationD)\n",
    "\n",
    "selfEmpD = pd.get_dummies(train['Self_Employed'])\n",
    "train = train.drop('Self_Employed',axis=1)\n",
    "train = train.join(selfEmpD)\n",
    "#print(selfEmpD)\n",
    "\n",
    "\n",
    "\n",
    "train.head(5)\n",
    "\n",
    "import matplotlib\n",
    "import matplotlib.pyplot as plt\n",
    "train['LoanAmount'].plot(kind = 'hist',bins =50)"
   ]
  }
 ],
 "metadata": {
  "kernelspec": {
   "display_name": "Python 3",
   "language": "python",
   "name": "python3"
  },
  "language_info": {
   "codemirror_mode": {
    "name": "ipython",
    "version": 3
   },
   "file_extension": ".py",
   "mimetype": "text/x-python",
   "name": "python",
   "nbconvert_exporter": "python",
   "pygments_lexer": "ipython3",
   "version": "3.6.5"
  }
 },
 "nbformat": 4,
 "nbformat_minor": 2
}
